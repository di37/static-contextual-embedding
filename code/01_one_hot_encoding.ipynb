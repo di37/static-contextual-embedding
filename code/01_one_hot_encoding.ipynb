{
 "cells": [
  {
   "cell_type": "code",
   "execution_count": 1,
   "metadata": {},
   "outputs": [
    {
     "name": "stdout",
     "output_type": "stream",
     "text": [
      "Vocabulary: ['sat', 'the', 'cat', 'on', 'mat']\n",
      "One-hot vectors:\n",
      " [[0. 1. 0. 0. 0.]\n",
      " [0. 0. 1. 0. 0.]\n",
      " [1. 0. 0. 0. 0.]\n",
      " [0. 0. 0. 1. 0.]\n",
      " [0. 1. 0. 0. 0.]\n",
      " [0. 0. 0. 0. 1.]]\n"
     ]
    }
   ],
   "source": [
    "import numpy as np\n",
    "\n",
    "# Sample sentence\n",
    "sentence = \"The cat sat on the mat\"\n",
    "\n",
    "# Tokenize the sentence\n",
    "tokens = sentence.lower().split()\n",
    "\n",
    "# Build vocabulary\n",
    "vocabulary = list(set(tokens))\n",
    "vocab_size = len(vocabulary)\n",
    "\n",
    "# Create a mapping from word to index\n",
    "word_to_index = {word: idx for idx, word in enumerate(vocabulary)}\n",
    "\n",
    "# One-hot encode each token\n",
    "one_hot_vectors = np.zeros((len(tokens), vocab_size))\n",
    "\n",
    "for i, token in enumerate(tokens):\n",
    "    index = word_to_index[token]\n",
    "    one_hot_vectors[i, index] = 1\n",
    "\n",
    "print(\"Vocabulary:\", vocabulary)\n",
    "print(\"One-hot vectors:\\n\", one_hot_vectors)"
   ]
  }
 ],
 "metadata": {
  "kernelspec": {
   "display_name": "Python 3",
   "language": "python",
   "name": "python3"
  },
  "language_info": {
   "codemirror_mode": {
    "name": "ipython",
    "version": 3
   },
   "file_extension": ".py",
   "mimetype": "text/x-python",
   "name": "python",
   "nbconvert_exporter": "python",
   "pygments_lexer": "ipython3",
   "version": "3.11.9"
  }
 },
 "nbformat": 4,
 "nbformat_minor": 2
}
